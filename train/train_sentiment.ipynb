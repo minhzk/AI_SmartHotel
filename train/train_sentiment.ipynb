{
 "cells": [
  {
   "cell_type": "markdown",
   "id": "b7384230",
   "metadata": {},
   "source": [
    "# Sentiment Model Training\n",
    "Train and debug sentiment analysis model for hotel comments."
   ]
  },
  {
   "cell_type": "markdown",
   "id": "244327bf",
   "metadata": {},
   "source": [
    "## Thư viện nên dùng để train AI sentiment\n",
    "\n",
    "- pandas: xử lý dữ liệu\n",
    "- scikit-learn: vector hóa, train/test split, mô hình, đánh giá\n",
    "- nltk hoặc spaCy: tiền xử lý nâng cao (tokenize, stopwords, lemmatization)\n",
    "- joblib hoặc pickle: lưu mô hình\n",
    "- matplotlib/seaborn: trực quan hóa dữ liệu, kết quả\n",
    "- transformers (HuggingFace): nếu muốn dùng mô hình BERT, DistilBERT, ...\n",
    "- tensorflow/keras: nếu muốn thử mô hình LSTM"
   ]
  },
  {
   "cell_type": "code",
   "execution_count": 2,
   "id": "c592b9be",
   "metadata": {},
   "outputs": [
    {
     "name": "stdout",
     "output_type": "stream",
     "text": [
      "tensorflow version: 2.19.0\n"
     ]
    }
   ],
   "source": [
    "import tensorflow\n",
    "print(\"tensorflow version:\", tensorflow.__version__)"
   ]
  },
  {
   "cell_type": "code",
   "execution_count": 2,
   "id": "fd753524",
   "metadata": {},
   "outputs": [
    {
     "name": "stderr",
     "output_type": "stream",
     "text": [
      "[nltk_data] Downloading package stopwords to C:\\Users\\BINH\n",
      "[nltk_data]     MINH\\AppData\\Roaming\\nltk_data...\n",
      "[nltk_data]   Package stopwords is already up-to-date!\n",
      "[nltk_data] Downloading package wordnet to C:\\Users\\BINH\n",
      "[nltk_data]     MINH\\AppData\\Roaming\\nltk_data...\n",
      "[nltk_data]   Package wordnet is already up-to-date!\n"
     ]
    }
   ],
   "source": [
    "\n",
    "import pandas as pd\n",
    "from sklearn.model_selection import train_test_split\n",
    "from sklearn.feature_extraction.text import TfidfVectorizer\n",
    "from sklearn.svm import LinearSVC\n",
    "from sklearn.pipeline import Pipeline\n",
    "from sklearn.metrics import classification_report\n",
    "import joblib\n",
    "import os\n",
    "import re\n",
    "import nltk\n",
    "from nltk.corpus import stopwords\n",
    "from nltk.stem import WordNetLemmatizer\n",
    "import xgboost as xgb\n",
    "from sklearn.preprocessing import LabelEncoder\n",
    "from sklearn.pipeline import make_pipeline\n",
    "import matplotlib.pyplot as plt\n",
    "from sklearn.model_selection import GridSearchCV\n",
    "import tensorflow as tf\n",
    "from tensorflow.keras.preprocessing.text import Tokenizer\n",
    "from tensorflow.keras.preprocessing.sequence import pad_sequences\n",
    "from tensorflow.keras.utils import to_categorical\n",
    "from tensorflow.keras.models import Sequential\n",
    "from tensorflow.keras.layers import Embedding, LSTM, Dense, Dropout, BatchNormalization\n",
    "from tensorflow.keras.callbacks import EarlyStopping, ModelCheckpoint\n",
    "from tensorflow.keras import regularizers\n",
    "\n",
    "# Tải dữ liệu stopwords và wordnet nếu chưa có\n",
    "nltk.download('stopwords')\n",
    "nltk.download('wordnet')\n",
    "\n",
    "stop_words = set(stopwords.words('english'))\n",
    "lemmatizer = WordNetLemmatizer()\n",
    "\n",
    "def preprocess_text(text):\n",
    "    # Chuyển về chữ thường\n",
    "    text = text.lower()\n",
    "    # Loại bỏ ký tự đặc biệt và số\n",
    "    text = re.sub(r'[^a-z\\s]', '', text)\n",
    "    # Tokenize\n",
    "    tokens = text.split()\n",
    "    # Loại bỏ stopwords và lemmatize\n",
    "    tokens = [lemmatizer.lemmatize(word) for word in tokens if word not in stop_words]\n",
    "    # Ghép lại thành chuỗi\n",
    "    return ' '.join(tokens)"
   ]
  },
  {
   "cell_type": "code",
   "execution_count": 1,
   "id": "8e7e1fb8",
   "metadata": {},
   "outputs": [
    {
     "name": "stdout",
     "output_type": "stream",
     "text": [
      "Collecting tensorflow\n",
      "  Using cached tensorflow-2.19.0-cp39-cp39-win_amd64.whl (375.7 MB)\n",
      "Requirement already satisfied: six>=1.12.0 in e:\\workspace\\smarthotel\\ai_smarthotel\\venv\\lib\\site-packages (from tensorflow) (1.17.0)\n",
      "Requirement already satisfied: numpy<2.2.0,>=1.26.0 in e:\\workspace\\smarthotel\\ai_smarthotel\\venv\\lib\\site-packages (from tensorflow) (2.0.2)\n",
      "Collecting libclang>=13.0.0\n",
      "  Using cached libclang-18.1.1-py2.py3-none-win_amd64.whl (26.4 MB)\n",
      "Requirement already satisfied: typing-extensions>=3.6.6 in e:\\workspace\\smarthotel\\ai_smarthotel\\venv\\lib\\site-packages (from tensorflow) (4.13.2)\n",
      "Collecting flatbuffers>=24.3.25\n",
      "  Using cached flatbuffers-25.2.10-py2.py3-none-any.whl (30 kB)\n",
      "Collecting ml-dtypes<1.0.0,>=0.5.1\n",
      "  Using cached ml_dtypes-0.5.1-cp39-cp39-win_amd64.whl (209 kB)\n",
      "Collecting h5py>=3.11.0\n",
      "  Using cached h5py-3.13.0-cp39-cp39-win_amd64.whl (3.0 MB)\n",
      "Requirement already satisfied: setuptools in e:\\workspace\\smarthotel\\ai_smarthotel\\venv\\lib\\site-packages (from tensorflow) (58.1.0)\n",
      "Collecting tensorflow-io-gcs-filesystem>=0.23.1\n",
      "  Using cached tensorflow_io_gcs_filesystem-0.31.0-cp39-cp39-win_amd64.whl (1.5 MB)\n",
      "Collecting protobuf!=4.21.0,!=4.21.1,!=4.21.2,!=4.21.3,!=4.21.4,!=4.21.5,<6.0.0dev,>=3.20.3\n",
      "  Using cached protobuf-5.29.4-cp39-cp39-win_amd64.whl (434 kB)\n",
      "Collecting tensorboard~=2.19.0\n",
      "  Using cached tensorboard-2.19.0-py3-none-any.whl (5.5 MB)\n",
      "Collecting termcolor>=1.1.0\n",
      "  Using cached termcolor-3.1.0-py3-none-any.whl (7.7 kB)\n",
      "Collecting wrapt>=1.11.0\n",
      "  Using cached wrapt-1.17.2-cp39-cp39-win_amd64.whl (38 kB)\n",
      "Collecting astunparse>=1.6.0\n",
      "  Using cached astunparse-1.6.3-py2.py3-none-any.whl (12 kB)\n",
      "Collecting gast!=0.5.0,!=0.5.1,!=0.5.2,>=0.2.1\n",
      "  Using cached gast-0.6.0-py3-none-any.whl (21 kB)\n",
      "Collecting keras>=3.5.0\n",
      "  Downloading keras-3.10.0-py3-none-any.whl (1.4 MB)\n",
      "     ---------------------------------------- 1.4/1.4 MB 796.9 kB/s eta 0:00:00\n",
      "Collecting absl-py>=1.0.0\n",
      "  Using cached absl_py-2.2.2-py3-none-any.whl (135 kB)\n",
      "Collecting grpcio<2.0,>=1.24.3\n",
      "  Using cached grpcio-1.71.0-cp39-cp39-win_amd64.whl (4.3 MB)\n",
      "Collecting requests<3,>=2.21.0\n",
      "  Using cached requests-2.32.3-py3-none-any.whl (64 kB)\n",
      "Collecting opt-einsum>=2.3.2\n",
      "  Using cached opt_einsum-3.4.0-py3-none-any.whl (71 kB)\n",
      "Requirement already satisfied: packaging in e:\\workspace\\smarthotel\\ai_smarthotel\\venv\\lib\\site-packages (from tensorflow) (25.0)\n",
      "Collecting google-pasta>=0.1.1\n",
      "  Using cached google_pasta-0.2.0-py3-none-any.whl (57 kB)\n",
      "Collecting wheel<1.0,>=0.23.0\n",
      "  Using cached wheel-0.45.1-py3-none-any.whl (72 kB)\n",
      "Collecting rich\n",
      "  Using cached rich-14.0.0-py3-none-any.whl (243 kB)\n",
      "Collecting namex\n",
      "  Using cached namex-0.0.9-py3-none-any.whl (5.8 kB)\n",
      "Collecting optree\n",
      "  Using cached optree-0.15.0-cp39-cp39-win_amd64.whl (292 kB)\n",
      "Collecting certifi>=2017.4.17\n",
      "  Using cached certifi-2025.4.26-py3-none-any.whl (159 kB)\n",
      "Collecting charset-normalizer<4,>=2\n",
      "  Using cached charset_normalizer-3.4.2-cp39-cp39-win_amd64.whl (105 kB)\n",
      "Collecting urllib3<3,>=1.21.1\n",
      "  Using cached urllib3-2.4.0-py3-none-any.whl (128 kB)\n",
      "Requirement already satisfied: idna<4,>=2.5 in e:\\workspace\\smarthotel\\ai_smarthotel\\venv\\lib\\site-packages (from requests<3,>=2.21.0->tensorflow) (3.10)\n",
      "Collecting markdown>=2.6.8\n",
      "  Using cached markdown-3.8-py3-none-any.whl (106 kB)\n",
      "Collecting tensorboard-data-server<0.8.0,>=0.7.0\n",
      "  Using cached tensorboard_data_server-0.7.2-py3-none-any.whl (2.4 kB)\n",
      "Collecting werkzeug>=1.0.1\n",
      "  Using cached werkzeug-3.1.3-py3-none-any.whl (224 kB)\n",
      "Requirement already satisfied: importlib-metadata>=4.4 in e:\\workspace\\smarthotel\\ai_smarthotel\\venv\\lib\\site-packages (from markdown>=2.6.8->tensorboard~=2.19.0->tensorflow) (8.7.0)\n",
      "Collecting MarkupSafe>=2.1.1\n",
      "  Using cached MarkupSafe-3.0.2-cp39-cp39-win_amd64.whl (15 kB)\n",
      "Collecting markdown-it-py>=2.2.0\n",
      "  Using cached markdown_it_py-3.0.0-py3-none-any.whl (87 kB)\n",
      "Requirement already satisfied: pygments<3.0.0,>=2.13.0 in e:\\workspace\\smarthotel\\ai_smarthotel\\venv\\lib\\site-packages (from rich->keras>=3.5.0->tensorflow) (2.19.1)\n",
      "Requirement already satisfied: zipp>=3.20 in e:\\workspace\\smarthotel\\ai_smarthotel\\venv\\lib\\site-packages (from importlib-metadata>=4.4->markdown>=2.6.8->tensorboard~=2.19.0->tensorflow) (3.21.0)\n",
      "Collecting mdurl~=0.1\n",
      "  Using cached mdurl-0.1.2-py3-none-any.whl (10.0 kB)\n",
      "Installing collected packages: namex, libclang, flatbuffers, wrapt, wheel, urllib3, termcolor, tensorflow-io-gcs-filesystem, tensorboard-data-server, protobuf, optree, opt-einsum, ml-dtypes, mdurl, MarkupSafe, h5py, grpcio, google-pasta, gast, charset-normalizer, certifi, absl-py, werkzeug, requests, markdown-it-py, markdown, astunparse, tensorboard, rich, keras, tensorflow\n",
      "Successfully installed MarkupSafe-3.0.2 absl-py-2.2.2 astunparse-1.6.3 certifi-2025.4.26 charset-normalizer-3.4.2 flatbuffers-25.2.10 gast-0.6.0 google-pasta-0.2.0 grpcio-1.71.0 h5py-3.13.0 keras-3.10.0 libclang-18.1.1 markdown-3.8 markdown-it-py-3.0.0 mdurl-0.1.2 ml-dtypes-0.5.1 namex-0.0.9 opt-einsum-3.4.0 optree-0.15.0 protobuf-5.29.4 requests-2.32.3 rich-14.0.0 tensorboard-2.19.0 tensorboard-data-server-0.7.2 tensorflow-2.19.0 tensorflow-io-gcs-filesystem-0.31.0 termcolor-3.1.0 urllib3-2.4.0 werkzeug-3.1.3 wheel-0.45.1 wrapt-1.17.2\n"
     ]
    },
    {
     "name": "stderr",
     "output_type": "stream",
     "text": [
      "WARNING: You are using pip version 22.0.4; however, version 25.1.1 is available.\n",
      "You should consider upgrading via the 'E:\\Workspace\\SmartHotel\\AI_SmartHotel\\venv\\Scripts\\python.exe -m pip install --upgrade pip' command.\n"
     ]
    }
   ],
   "source": [
    "!pip install tensorflow"
   ]
  },
  {
   "cell_type": "code",
   "execution_count": 3,
   "id": "a85e4788",
   "metadata": {},
   "outputs": [
    {
     "data": {
      "text/html": [
       "<div>\n",
       "<style scoped>\n",
       "    .dataframe tbody tr th:only-of-type {\n",
       "        vertical-align: middle;\n",
       "    }\n",
       "\n",
       "    .dataframe tbody tr th {\n",
       "        vertical-align: top;\n",
       "    }\n",
       "\n",
       "    .dataframe thead th {\n",
       "        text-align: right;\n",
       "    }\n",
       "</style>\n",
       "<table border=\"1\" class=\"dataframe\">\n",
       "  <thead>\n",
       "    <tr style=\"text-align: right;\">\n",
       "      <th></th>\n",
       "      <th>Review</th>\n",
       "      <th>Review_clean</th>\n",
       "    </tr>\n",
       "  </thead>\n",
       "  <tbody>\n",
       "    <tr>\n",
       "      <th>0</th>\n",
       "      <td>nice hotel expensive parking got good deal sta...</td>\n",
       "      <td>nice hotel expensive parking got good deal sta...</td>\n",
       "    </tr>\n",
       "    <tr>\n",
       "      <th>1</th>\n",
       "      <td>ok nothing special charge diamond member hilto...</td>\n",
       "      <td>ok nothing special charge diamond member hilto...</td>\n",
       "    </tr>\n",
       "    <tr>\n",
       "      <th>2</th>\n",
       "      <td>nice rooms not 4* experience hotel monaco seat...</td>\n",
       "      <td>nice room experience hotel monaco seattle good...</td>\n",
       "    </tr>\n",
       "    <tr>\n",
       "      <th>3</th>\n",
       "      <td>unique, great stay, wonderful time hotel monac...</td>\n",
       "      <td>unique great stay wonderful time hotel monaco ...</td>\n",
       "    </tr>\n",
       "    <tr>\n",
       "      <th>4</th>\n",
       "      <td>great stay great stay, went seahawk game aweso...</td>\n",
       "      <td>great stay great stay went seahawk game awesom...</td>\n",
       "    </tr>\n",
       "  </tbody>\n",
       "</table>\n",
       "</div>"
      ],
      "text/plain": [
       "                                              Review  \\\n",
       "0  nice hotel expensive parking got good deal sta...   \n",
       "1  ok nothing special charge diamond member hilto...   \n",
       "2  nice rooms not 4* experience hotel monaco seat...   \n",
       "3  unique, great stay, wonderful time hotel monac...   \n",
       "4  great stay great stay, went seahawk game aweso...   \n",
       "\n",
       "                                        Review_clean  \n",
       "0  nice hotel expensive parking got good deal sta...  \n",
       "1  ok nothing special charge diamond member hilto...  \n",
       "2  nice room experience hotel monaco seattle good...  \n",
       "3  unique great stay wonderful time hotel monaco ...  \n",
       "4  great stay great stay went seahawk game awesom...  "
      ]
     },
     "execution_count": 3,
     "metadata": {},
     "output_type": "execute_result"
    }
   ],
   "source": [
    "# Đọc dữ liệu từ file CSV\n",
    "# Dữ liệu phải có 2 trường: Review, Rating (1-5)\n",
    "df = pd.read_csv('../data/tripadvisor_hotel_reviews.csv')\n",
    "df = df.dropna(subset=[\"Review\", \"Rating\"])\n",
    "df[\"Rating\"] = df[\"Rating\"].astype(int)\n",
    "\n",
    "# Áp dụng tiền xử lý cho toàn bộ dữ liệu\n",
    "df[\"Review_clean\"] = df[\"Review\"].apply(preprocess_text)\n",
    "df[[\"Review\", \"Review_clean\"]].head()"
   ]
  },
  {
   "cell_type": "code",
   "execution_count": 4,
   "id": "aee809a1",
   "metadata": {},
   "outputs": [
    {
     "name": "stdout",
     "output_type": "stream",
     "text": [
      "Rating\n",
      "1    1421\n",
      "2    1793\n",
      "3    2184\n",
      "4    6039\n",
      "5    9054\n",
      "Name: count, dtype: int64\n",
      "Số lượng từng rating:\n",
      "Rating\n",
      "1    1421\n",
      "2    1793\n",
      "3    2184\n",
      "4    6039\n",
      "5    9054\n",
      "Name: count, dtype: int64\n",
      "Sau cân bằng:\n",
      "Rating\n",
      "1    1421\n",
      "2    1421\n",
      "3    1421\n",
      "4    1421\n",
      "5    1421\n",
      "Name: count, dtype: int64\n"
     ]
    },
    {
     "data": {
      "image/png": "[encoded data removed]",
      "text/plain": [
       "<Figure size 640x480 with 1 Axes>"
      ]
     },
     "metadata": {},
     "output_type": "display_data"
    }
   ],
   "source": [
    "\n",
    "# Thống kê số lượng review cho từng rating\n",
    "print(df[\"Rating\"].value_counts().sort_index())\n",
    "df[\"Rating\"].value_counts(normalize=True).sort_index().plot(kind='bar', title='Tỉ lệ từng rating')\n",
    "\n",
    "# Thống kê lại số lượng từng rating\n",
    "print(\"Số lượng từng rating:\")\n",
    "print(df[\"Rating\"].value_counts().sort_index())\n",
    "\n",
    "# Cân bằng lại dữ liệu (undersample cho mỗi rating)\n",
    "min_count = df[\"Rating\"].value_counts().min()\n",
    "df_balanced = df.groupby(\"Rating\").sample(n=min_count, random_state=42)\n",
    "print(\"Sau cân bằng:\")\n",
    "print(df_balanced[\"Rating\"].value_counts().sort_index())"
   ]
  },
  {
   "cell_type": "markdown",
   "id": "5d639f82",
   "metadata": {},
   "source": [
    "### Đánh giá bước xử lý dữ liệu hiện tại\n",
    "\n",
    "**1. Đọc dữ liệu:**  \n",
    "- File `tripadvisor_hotel_reviews.csv` có 2 trường: `Review` (văn bản) và `Rating` (1-5).\n",
    "- Đã loại bỏ các dòng thiếu dữ liệu (`dropna`), ép kiểu `Rating` về số nguyên.\n",
    "\n",
    "**2. Tiền xử lý văn bản:**  \n",
    "- Hàm `preprocess_text` đã:\n",
    "  - Chuyển về chữ thường.\n",
    "  - Loại bỏ ký tự đặc biệt và số.\n",
    "  - Tokenize (tách từ).\n",
    "  - Loại bỏ stopwords (từ dừng tiếng Anh).\n",
    "  - Lemmatize (đưa về từ gốc).\n",
    "- Kết quả lưu vào cột mới `Review_clean`.\n",
    "\n",
    "**3. Thống kê & cân bằng dữ liệu:**  \n",
    "- Đã thống kê số lượng từng rating.\n",
    "- Đã cân bằng lại dữ liệu bằng cách lấy số lượng nhỏ nhất của mỗi rating (undersample), giúp mô hình không bị lệch nhãn.\n",
    "\n",
    "**4. Chuẩn bị cho LSTM:**  \n",
    "- Tokenizer giới hạn từ điển 10.000 từ, padding/cắt về 200 từ/review.\n",
    "- Encode nhãn về dạng số liên tục, one-hot cho LSTM.\n",
    "\n",
    "**Nhận xét:**  \n",
    "- Các bước xử lý dữ liệu đã hợp lý, đảm bảo dữ liệu sạch, cân bằng, phù hợp cho mô hình LSTM.\n",
    "- Nếu muốn cải thiện thêm:  \n",
    "  - Có thể kiểm tra loại bỏ các review quá ngắn hoặc không mang ý nghĩa cảm xúc.\n",
    "  - Có thể thử các bước nâng cao như sửa lỗi chính tả, nhận diện emoji, v.v.\n",
    "  - Nếu dữ liệu lớn, có thể thử oversample thay vì undersample để giữ lại nhiều dữ liệu hơn.\n",
    "\n",
    "**Tóm lại:**  \n",
    "Quy trình xử lý dữ liệu hiện tại đã ổn, phù hợp cho train mô hình LSTM đa lớp rating."
   ]
  },
  {
   "cell_type": "code",
   "execution_count": 5,
   "id": "bb88aad0",
   "metadata": {},
   "outputs": [],
   "source": [
    "# Chuẩn bị dữ liệu cho LSTM\n",
    "MAX_NUM_WORDS = 10000\n",
    "MAX_SEQUENCE_LENGTH = 250\n",
    "\n",
    "tokenizer = Tokenizer(num_words=MAX_NUM_WORDS, oov_token=\"<OOV>\")\n",
    "tokenizer.fit_on_texts(df_balanced[\"Review_clean\"])\n",
    "X = tokenizer.texts_to_sequences(df_balanced[\"Review_clean\"])\n",
    "X = pad_sequences(X, maxlen=MAX_SEQUENCE_LENGTH, padding='post', truncating='post')"
   ]
  },
  {
   "cell_type": "code",
   "execution_count": 6,
   "id": "d24bad41",
   "metadata": {},
   "outputs": [],
   "source": [
    "# Encode label về dạng số liên tục từ 0\n",
    "le = LabelEncoder()\n",
    "y = le.fit_transform(df_balanced[\"Rating\"])\n",
    "y_cat = to_categorical(y)"
   ]
  },
  {
   "cell_type": "code",
   "execution_count": 7,
   "id": "9ac482cc",
   "metadata": {},
   "outputs": [],
   "source": [
    "# Chia train/test\n",
    "X_train, X_test, y_train, y_test = train_test_split(\n",
    "    X, y_cat, test_size=0.2, random_state=42\n",
    ")"
   ]
  },
  {
   "cell_type": "code",
   "execution_count": 8,
   "id": "c32505bd",
   "metadata": {},
   "outputs": [
    {
     "name": "stderr",
     "output_type": "stream",
     "text": [
      "e:\\Workspace\\SmartHotel\\AI_SmartHotel\\venv\\lib\\site-packages\\keras\\src\\layers\\core\\embedding.py:97: UserWarning: Argument `input_length` is deprecated. Just remove it.\n",
      "  warnings.warn(\n"
     ]
    },
    {
     "data": {
      "text/html": [
       "<pre style=\"white-space:pre;overflow-x:auto;line-height:normal;font-family:Menlo,'DejaVu Sans Mono',consolas,'Courier New',monospace\"><span style=\"font-weight: bold\">Model: \"sequential\"</span>\n",
       "</pre>\n"
      ],
      "text/plain": [
       "\u001b[1mModel: \"sequential\"\u001b[0m\n"
      ]
     },
     "metadata": {},
     "output_type": "display_data"
    },
    {
     "data": {
      "text/html": [
       "<pre style=\"white-space:pre;overflow-x:auto;line-height:normal;font-family:Menlo,'DejaVu Sans Mono',consolas,'Courier New',monospace\">┏━━━━━━━━━━━━━━━━━━━━━━━━━━━━━━━━━┳━━━━━━━━━━━━━━━━━━━━━━━━┳━━━━━━━━━━━━━━━┓\n",
       "┃<span style=\"font-weight: bold\"> Layer (type)                    </span>┃<span style=\"font-weight: bold\"> Output Shape           </span>┃<span style=\"font-weight: bold\">       Param # </span>┃\n",
       "┡━━━━━━━━━━━━━━━━━━━━━━━━━━━━━━━━━╇━━━━━━━━━━━━━━━━━━━━━━━━╇━━━━━━━━━━━━━━━┩\n",
       "│ embedding (<span style=\"color: #0087ff; text-decoration-color: #0087ff\">Embedding</span>)           │ (<span style=\"color: #00d7ff; text-decoration-color: #00d7ff\">None</span>, <span style=\"color: #00af00; text-decoration-color: #00af00\">250</span>, <span style=\"color: #00af00; text-decoration-color: #00af00\">128</span>)       │     <span style=\"color: #00af00; text-decoration-color: #00af00\">1,280,000</span> │\n",
       "├─────────────────────────────────┼────────────────────────┼───────────────┤\n",
       "│ lstm (<span style=\"color: #0087ff; text-decoration-color: #0087ff\">LSTM</span>)                     │ (<span style=\"color: #00d7ff; text-decoration-color: #00d7ff\">None</span>, <span style=\"color: #00af00; text-decoration-color: #00af00\">128</span>)            │       <span style=\"color: #00af00; text-decoration-color: #00af00\">131,584</span> │\n",
       "├─────────────────────────────────┼────────────────────────┼───────────────┤\n",
       "│ dropout (<span style=\"color: #0087ff; text-decoration-color: #0087ff\">Dropout</span>)               │ (<span style=\"color: #00d7ff; text-decoration-color: #00d7ff\">None</span>, <span style=\"color: #00af00; text-decoration-color: #00af00\">128</span>)            │             <span style=\"color: #00af00; text-decoration-color: #00af00\">0</span> │\n",
       "├─────────────────────────────────┼────────────────────────┼───────────────┤\n",
       "│ dense (<span style=\"color: #0087ff; text-decoration-color: #0087ff\">Dense</span>)                   │ (<span style=\"color: #00d7ff; text-decoration-color: #00d7ff\">None</span>, <span style=\"color: #00af00; text-decoration-color: #00af00\">64</span>)             │         <span style=\"color: #00af00; text-decoration-color: #00af00\">8,256</span> │\n",
       "├─────────────────────────────────┼────────────────────────┼───────────────┤\n",
       "│ dropout_1 (<span style=\"color: #0087ff; text-decoration-color: #0087ff\">Dropout</span>)             │ (<span style=\"color: #00d7ff; text-decoration-color: #00d7ff\">None</span>, <span style=\"color: #00af00; text-decoration-color: #00af00\">64</span>)             │             <span style=\"color: #00af00; text-decoration-color: #00af00\">0</span> │\n",
       "├─────────────────────────────────┼────────────────────────┼───────────────┤\n",
       "│ dense_1 (<span style=\"color: #0087ff; text-decoration-color: #0087ff\">Dense</span>)                 │ (<span style=\"color: #00d7ff; text-decoration-color: #00d7ff\">None</span>, <span style=\"color: #00af00; text-decoration-color: #00af00\">5</span>)              │           <span style=\"color: #00af00; text-decoration-color: #00af00\">325</span> │\n",
       "└─────────────────────────────────┴────────────────────────┴───────────────┘\n",
       "</pre>\n"
      ],
      "text/plain": [
       "┏━━━━━━━━━━━━━━━━━━━━━━━━━━━━━━━━━┳━━━━━━━━━━━━━━━━━━━━━━━━┳━━━━━━━━━━━━━━━┓\n",
       "┃\u001b[1m \u001b[0m\u001b[1mLayer (type)                   \u001b[0m\u001b[1m \u001b[0m┃\u001b[1m \u001b[0m\u001b[1mOutput Shape          \u001b[0m\u001b[1m \u001b[0m┃\u001b[1m \u001b[0m\u001b[1m      Param #\u001b[0m\u001b[1m \u001b[0m┃\n",
       "┡━━━━━━━━━━━━━━━━━━━━━━━━━━━━━━━━━╇━━━━━━━━━━━━━━━━━━━━━━━━╇━━━━━━━━━━━━━━━┩\n",
       "│ embedding (\u001b[38;5;33mEmbedding\u001b[0m)           │ (\u001b[38;5;45mNone\u001b[0m, \u001b[38;5;34m250\u001b[0m, \u001b[38;5;34m128\u001b[0m)       │     \u001b[38;5;34m1,280,000\u001b[0m │\n",
       "├─────────────────────────────────┼────────────────────────┼───────────────┤\n",
       "│ lstm (\u001b[38;5;33mLSTM\u001b[0m)                     │ (\u001b[38;5;45mNone\u001b[0m, \u001b[38;5;34m128\u001b[0m)            │       \u001b[38;5;34m131,584\u001b[0m │\n",
       "├─────────────────────────────────┼────────────────────────┼───────────────┤\n",
       "│ dropout (\u001b[38;5;33mDropout\u001b[0m)               │ (\u001b[38;5;45mNone\u001b[0m, \u001b[38;5;34m128\u001b[0m)            │             \u001b[38;5;34m0\u001b[0m │\n",
       "├─────────────────────────────────┼────────────────────────┼───────────────┤\n",
       "│ dense (\u001b[38;5;33mDense\u001b[0m)                   │ (\u001b[38;5;45mNone\u001b[0m, \u001b[38;5;34m64\u001b[0m)             │         \u001b[38;5;34m8,256\u001b[0m │\n",
       "├─────────────────────────────────┼────────────────────────┼───────────────┤\n",
       "│ dropout_1 (\u001b[38;5;33mDropout\u001b[0m)             │ (\u001b[38;5;45mNone\u001b[0m, \u001b[38;5;34m64\u001b[0m)             │             \u001b[38;5;34m0\u001b[0m │\n",
       "├─────────────────────────────────┼────────────────────────┼───────────────┤\n",
       "│ dense_1 (\u001b[38;5;33mDense\u001b[0m)                 │ (\u001b[38;5;45mNone\u001b[0m, \u001b[38;5;34m5\u001b[0m)              │           \u001b[38;5;34m325\u001b[0m │\n",
       "└─────────────────────────────────┴────────────────────────┴───────────────┘\n"
      ]
     },
     "metadata": {},
     "output_type": "display_data"
    },
    {
     "data": {
      "text/html": [
       "<pre style=\"white-space:pre;overflow-x:auto;line-height:normal;font-family:Menlo,'DejaVu Sans Mono',consolas,'Courier New',monospace\"><span style=\"font-weight: bold\"> Total params: </span><span style=\"color: #00af00; text-decoration-color: #00af00\">1,420,165</span> (5.42 MB)\n",
       "</pre>\n"
      ],
      "text/plain": [
       "\u001b[1m Total params: \u001b[0m\u001b[38;5;34m1,420,165\u001b[0m (5.42 MB)\n"
      ]
     },
     "metadata": {},
     "output_type": "display_data"
    },
    {
     "data": {
      "text/html": [
       "<pre style=\"white-space:pre;overflow-x:auto;line-height:normal;font-family:Menlo,'DejaVu Sans Mono',consolas,'Courier New',monospace\"><span style=\"font-weight: bold\"> Trainable params: </span><span style=\"color: #00af00; text-decoration-color: #00af00\">1,420,165</span> (5.42 MB)\n",
       "</pre>\n"
      ],
      "text/plain": [
       "\u001b[1m Trainable params: \u001b[0m\u001b[38;5;34m1,420,165\u001b[0m (5.42 MB)\n"
      ]
     },
     "metadata": {},
     "output_type": "display_data"
    },
    {
     "data": {
      "text/html": [
       "<pre style=\"white-space:pre;overflow-x:auto;line-height:normal;font-family:Menlo,'DejaVu Sans Mono',consolas,'Courier New',monospace\"><span style=\"font-weight: bold\"> Non-trainable params: </span><span style=\"color: #00af00; text-decoration-color: #00af00\">0</span> (0.00 B)\n",
       "</pre>\n"
      ],
      "text/plain": [
       "\u001b[1m Non-trainable params: \u001b[0m\u001b[38;5;34m0\u001b[0m (0.00 B)\n"
      ]
     },
     "metadata": {},
     "output_type": "display_data"
    }
   ],
   "source": [
    "# Xây dựng mô hình LSTM\n",
    "model = Sequential([\n",
    "    Embedding(input_dim=MAX_NUM_WORDS, output_dim=128, input_length=MAX_SEQUENCE_LENGTH),\n",
    "    LSTM(128, return_sequences=False),\n",
    "    Dropout(0.3),\n",
    "    Dense(64, activation='relu'),\n",
    "    Dropout(0.2),\n",
    "    Dense(y_cat.shape[1], activation='softmax')\n",
    "])\n",
    "\n",
    "model.compile(\n",
    "    loss='categorical_crossentropy',\n",
    "    optimizer='adam',\n",
    "    metrics=['accuracy']\n",
    ")\n",
    "\n",
    "# Build model để hiển thị đúng summary\n",
    "model.build(input_shape=(None, MAX_SEQUENCE_LENGTH))\n",
    "model.summary()"
   ]
  },
  {
   "cell_type": "code",
   "execution_count": 11,
   "id": "037abd6d",
   "metadata": {},
   "outputs": [
    {
     "name": "stdout",
     "output_type": "stream",
     "text": [
      "Epoch 1/10\n",
      "\u001b[1m89/89\u001b[0m \u001b[32m━━━━━━━━━━━━━━━━━━━━\u001b[0m\u001b[37m\u001b[0m \u001b[1m16s\u001b[0m 176ms/step - accuracy: 0.9735 - loss: 0.0930 - val_accuracy: 0.4877 - val_loss: 3.5032\n",
      "Epoch 2/10\n",
      "\u001b[1m89/89\u001b[0m \u001b[32m━━━━━━━━━━━━━━━━━━━━\u001b[0m\u001b[37m\u001b[0m \u001b[1m16s\u001b[0m 176ms/step - accuracy: 0.9735 - loss: 0.0930 - val_accuracy: 0.4877 - val_loss: 3.5032\n",
      "Epoch 2/10\n",
      "\u001b[1m89/89\u001b[0m \u001b[32m━━━━━━━━━━━━━━━━━━━━\u001b[0m\u001b[37m\u001b[0m \u001b[1m17s\u001b[0m 188ms/step - accuracy: 0.9799 - loss: 0.0823 - val_accuracy: 0.4525 - val_loss: 3.6917\n",
      "Epoch 3/10\n",
      "\u001b[1m89/89\u001b[0m \u001b[32m━━━━━━━━━━━━━━━━━━━━\u001b[0m\u001b[37m\u001b[0m \u001b[1m17s\u001b[0m 188ms/step - accuracy: 0.9799 - loss: 0.0823 - val_accuracy: 0.4525 - val_loss: 3.6917\n",
      "Epoch 3/10\n",
      "\u001b[1m89/89\u001b[0m \u001b[32m━━━━━━━━━━━━━━━━━━━━\u001b[0m\u001b[37m\u001b[0m \u001b[1m16s\u001b[0m 180ms/step - accuracy: 0.9721 - loss: 0.1097 - val_accuracy: 0.4821 - val_loss: 3.7687\n",
      "Epoch 4/10\n",
      "\u001b[1m89/89\u001b[0m \u001b[32m━━━━━━━━━━━━━━━━━━━━\u001b[0m\u001b[37m\u001b[0m \u001b[1m16s\u001b[0m 180ms/step - accuracy: 0.9721 - loss: 0.1097 - val_accuracy: 0.4821 - val_loss: 3.7687\n",
      "Epoch 4/10\n",
      "\u001b[1m89/89\u001b[0m \u001b[32m━━━━━━━━━━━━━━━━━━━━\u001b[0m\u001b[37m\u001b[0m \u001b[1m20s\u001b[0m 177ms/step - accuracy: 0.9900 - loss: 0.0495 - val_accuracy: 0.4666 - val_loss: 4.0056\n",
      "Epoch 5/10\n",
      "\u001b[1m89/89\u001b[0m \u001b[32m━━━━━━━━━━━━━━━━━━━━\u001b[0m\u001b[37m\u001b[0m \u001b[1m20s\u001b[0m 177ms/step - accuracy: 0.9900 - loss: 0.0495 - val_accuracy: 0.4666 - val_loss: 4.0056\n",
      "Epoch 5/10\n",
      "\u001b[1m89/89\u001b[0m \u001b[32m━━━━━━━━━━━━━━━━━━━━\u001b[0m\u001b[37m\u001b[0m \u001b[1m17s\u001b[0m 186ms/step - accuracy: 0.9873 - loss: 0.0528 - val_accuracy: 0.4701 - val_loss: 3.7832\n",
      "Epoch 6/10\n",
      "\u001b[1m89/89\u001b[0m \u001b[32m━━━━━━━━━━━━━━━━━━━━\u001b[0m\u001b[37m\u001b[0m \u001b[1m17s\u001b[0m 186ms/step - accuracy: 0.9873 - loss: 0.0528 - val_accuracy: 0.4701 - val_loss: 3.7832\n",
      "Epoch 6/10\n",
      "\u001b[1m89/89\u001b[0m \u001b[32m━━━━━━━━━━━━━━━━━━━━\u001b[0m\u001b[37m\u001b[0m \u001b[1m16s\u001b[0m 183ms/step - accuracy: 0.9900 - loss: 0.0416 - val_accuracy: 0.4729 - val_loss: 3.8938\n",
      "Epoch 7/10\n",
      "\u001b[1m89/89\u001b[0m \u001b[32m━━━━━━━━━━━━━━━━━━━━\u001b[0m\u001b[37m\u001b[0m \u001b[1m16s\u001b[0m 183ms/step - accuracy: 0.9900 - loss: 0.0416 - val_accuracy: 0.4729 - val_loss: 3.8938\n",
      "Epoch 7/10\n",
      "\u001b[1m89/89\u001b[0m \u001b[32m━━━━━━━━━━━━━━━━━━━━\u001b[0m\u001b[37m\u001b[0m \u001b[1m16s\u001b[0m 184ms/step - accuracy: 0.9945 - loss: 0.0268 - val_accuracy: 0.4764 - val_loss: 4.3022\n",
      "Epoch 8/10\n",
      "\u001b[1m89/89\u001b[0m \u001b[32m━━━━━━━━━━━━━━━━━━━━\u001b[0m\u001b[37m\u001b[0m \u001b[1m16s\u001b[0m 184ms/step - accuracy: 0.9945 - loss: 0.0268 - val_accuracy: 0.4764 - val_loss: 4.3022\n",
      "Epoch 8/10\n",
      "\u001b[1m89/89\u001b[0m \u001b[32m━━━━━━━━━━━━━━━━━━━━\u001b[0m\u001b[37m\u001b[0m \u001b[1m17s\u001b[0m 188ms/step - accuracy: 0.9954 - loss: 0.0229 - val_accuracy: 0.4821 - val_loss: 4.8189\n",
      "Epoch 9/10\n",
      "\u001b[1m89/89\u001b[0m \u001b[32m━━━━━━━━━━━━━━━━━━━━\u001b[0m\u001b[37m\u001b[0m \u001b[1m17s\u001b[0m 188ms/step - accuracy: 0.9954 - loss: 0.0229 - val_accuracy: 0.4821 - val_loss: 4.8189\n",
      "Epoch 9/10\n",
      "\u001b[1m89/89\u001b[0m \u001b[32m━━━━━━━━━━━━━━━━━━━━\u001b[0m\u001b[37m\u001b[0m \u001b[1m17s\u001b[0m 188ms/step - accuracy: 0.9896 - loss: 0.0392 - val_accuracy: 0.4764 - val_loss: 4.4108\n",
      "Epoch 10/10\n",
      "\u001b[1m89/89\u001b[0m \u001b[32m━━━━━━━━━━━━━━━━━━━━\u001b[0m\u001b[37m\u001b[0m \u001b[1m17s\u001b[0m 188ms/step - accuracy: 0.9896 - loss: 0.0392 - val_accuracy: 0.4764 - val_loss: 4.4108\n",
      "Epoch 10/10\n",
      "\u001b[1m89/89\u001b[0m \u001b[32m━━━━━━━━━━━━━━━━━━━━\u001b[0m\u001b[37m\u001b[0m \u001b[1m16s\u001b[0m 181ms/step - accuracy: 0.9928 - loss: 0.0287 - val_accuracy: 0.4821 - val_loss: 4.3319\n",
      "\u001b[1m89/89\u001b[0m \u001b[32m━━━━━━━━━━━━━━━━━━━━\u001b[0m\u001b[37m\u001b[0m \u001b[1m16s\u001b[0m 181ms/step - accuracy: 0.9928 - loss: 0.0287 - val_accuracy: 0.4821 - val_loss: 4.3319\n"
     ]
    }
   ],
   "source": [
    "# Train mô hình\n",
    "history = model.fit(\n",
    "    X_train, y_train,\n",
    "    validation_data=(X_test, y_test),\n",
    "    epochs=10,\n",
    "    batch_size=64\n",
    ")"
   ]
  },
  {
   "cell_type": "code",
   "execution_count": 12,
   "id": "9f676467",
   "metadata": {},
   "outputs": [
    {
     "name": "stdout",
     "output_type": "stream",
     "text": [
      "\u001b[1m45/45\u001b[0m \u001b[32m━━━━━━━━━━━━━━━━━━━━\u001b[0m\u001b[37m\u001b[0m \u001b[1m2s\u001b[0m 35ms/step\n",
      "\u001b[1m45/45\u001b[0m \u001b[32m━━━━━━━━━━━━━━━━━━━━\u001b[0m\u001b[37m\u001b[0m \u001b[1m2s\u001b[0m 35ms/step\n",
      "              precision    recall  f1-score   support\n",
      "\n",
      "           1      0.705     0.520     0.599       294\n",
      "           2      0.409     0.505     0.452       283\n",
      "           3      0.380     0.389     0.385       285\n",
      "           4      0.357     0.333     0.345       270\n",
      "           5      0.606     0.651     0.628       289\n",
      "\n",
      "    accuracy                          0.482      1421\n",
      "   macro avg      0.491     0.480     0.482      1421\n",
      "weighted avg      0.495     0.482     0.484      1421\n",
      "\n",
      "              precision    recall  f1-score   support\n",
      "\n",
      "           1      0.705     0.520     0.599       294\n",
      "           2      0.409     0.505     0.452       283\n",
      "           3      0.380     0.389     0.385       285\n",
      "           4      0.357     0.333     0.345       270\n",
      "           5      0.606     0.651     0.628       289\n",
      "\n",
      "    accuracy                          0.482      1421\n",
      "   macro avg      0.491     0.480     0.482      1421\n",
      "weighted avg      0.495     0.482     0.484      1421\n",
      "\n"
     ]
    }
   ],
   "source": [
    "# Đánh giá\n",
    "import numpy as np\n",
    "y_pred_prob = model.predict(X_test)\n",
    "y_pred = np.argmax(y_pred_prob, axis=1)\n",
    "y_true = np.argmax(y_test, axis=1)\n",
    "from sklearn.metrics import classification_report\n",
    "print(classification_report(le.inverse_transform(y_true), le.inverse_transform(y_pred), digits=3))\n"
   ]
  },
  {
   "cell_type": "code",
   "execution_count": 13,
   "id": "3ab5bb9a",
   "metadata": {},
   "outputs": [
    {
     "name": "stderr",
     "output_type": "stream",
     "text": [
      "WARNING:absl:You are saving your model as an HDF5 file via `model.save()` or `keras.saving.save_model(model)`. This file format is considered legacy. We recommend using instead the native Keras format, e.g. `model.save('my_model.keras')` or `keras.saving.save_model(model, 'my_model.keras')`. \n"
     ]
    }
   ],
   "source": [
    "# Lưu mô hình\n",
    "model.save(\"../models/sentiment_lstm_model.h5\")"
   ]
  },
  {
   "cell_type": "markdown",
   "id": "df971a16",
   "metadata": {},
   "source": [
    "### Giải thích các chỉ số khi train LSTM\n",
    "\n",
    "- **accuracy**: Độ chính xác trên tập train ở mỗi epoch (tỷ lệ dự đoán đúng).\n",
    "- **loss**: Giá trị hàm mất mát (categorical_crossentropy) trên tập train, càng thấp càng tốt.\n",
    "- **val_accuracy**: Độ chính xác trên tập validation (tập test tách ra từ đầu).\n",
    "- **val_loss**: Giá trị hàm mất mát trên tập validation.\n",
    "\n",
    "**Cách theo dõi đúng khi train:**\n",
    "- So sánh **accuracy** và **val_accuracy**: Nếu accuracy tăng nhưng val_accuracy không tăng hoặc giảm, mô hình có thể bị overfit.\n",
    "- Theo dõi **loss** và **val_loss**: Nếu loss giảm nhưng val_loss tăng mạnh, mô hình cũng có thể bị overfit.\n",
    "- Nên ưu tiên theo dõi **val_accuracy** và **val_loss** để đánh giá khả năng tổng quát hóa của mô hình.\n",
    "- Ngoài ra, nên in thêm **classification_report** (f1-score, precision, recall cho từng lớp) sau khi train để biết mô hình có học tốt các lớp nhỏ không.\n",
    "\n",
    "**Gợi ý:**  \n",
    "- Nếu thấy val_loss tăng mạnh, nên dừng sớm (early stopping) hoặc giảm số epoch.\n",
    "- Nếu val_accuracy thấp hơn train nhiều, nên tăng regularization (dropout, giảm số chiều, v.v.).\n",
    "- Luôn đánh giá bằng f1-score từng lớp, không chỉ accuracy tổng thể."
   ]
  },
  {
   "cell_type": "markdown",
   "id": "9d463d05",
   "metadata": {},
   "source": [
    "### Phân tích kết quả train LSTM (Epoch 26/40)\n",
    "\n",
    "- **accuracy: 0.9013** (train): Mô hình dự đoán rất tốt trên tập train (overfitting).\n",
    "- **loss: 0.2874** (train): Hàm mất mát trên train rất thấp.\n",
    "- **val_accuracy: 0.4666** (validation): Độ chính xác trên tập validation thấp, không cải thiện nhiều qua các epoch.\n",
    "- **val_loss: 2.2862** (validation): Hàm mất mát trên validation cao và có xu hướng tăng.\n",
    "\n",
    "#### Nhận xét:\n",
    "- Mô hình đang **overfit**: học thuộc dữ liệu train nhưng không tổng quát hóa tốt cho dữ liệu mới.\n",
    "- val_accuracy thấp hơn train rất nhiều, val_loss tăng → mô hình không học được đặc trưng tổng quát.\n",
    "- Có thể do:\n",
    "  - Mô hình quá phức tạp so với lượng dữ liệu (dù đã cân bằng).\n",
    "  - Số epoch quá nhiều, nên dừng sớm (early stopping).\n",
    "  - Đặc trưng đầu vào còn đơn giản, hoặc dữ liệu vẫn còn nhiễu.\n",
    "  - Dropout chưa đủ mạnh, hoặc cần thêm regularization khác.\n",
    "\n",
    "#### Gợi ý cải thiện:\n",
    "- Thêm/tăng Dropout, thử giảm số chiều LSTM/Dense.\n",
    "- Sử dụng EarlyStopping (theo dõi val_loss, dừng khi không cải thiện).\n",
    "- Thử giảm số epoch (ví dụ 10-20).\n",
    "- Kiểm tra lại dữ liệu đầu vào, thử các đặc trưng nâng cao hơn (embedding pre-trained).\n",
    "- Theo dõi f1-score từng lớp để biết mô hình có học đều các lớp không.\n",
    "\n",
    "**Tóm lại:**  \n",
    "Mô hình đang bị overfit, cần điều chỉnh lại kiến trúc, regularization, hoặc dừng sớm để tránh học thuộc train."
   ]
  },
  {
   "cell_type": "markdown",
   "id": "dde1b524",
   "metadata": {},
   "source": [
    "### Khi cả accuracy và val_accuracy cùng tăng thì sao?\n",
    "\n",
    "- Nếu **accuracy** (train) và **val_accuracy** (validation) đều tăng qua các epoch, đó là dấu hiệu tốt: mô hình đang học lên và tổng quát hóa tốt hơn trên dữ liệu mới.\n",
    "- Tuy nhiên, cần chú ý:\n",
    "  - Nếu val_accuracy tăng chậm hơn hoặc dừng lại trong khi accuracy vẫn tăng, có thể mô hình bắt đầu overfit.\n",
    "  - Nếu cả hai cùng tăng ổn định, mô hình đang học tốt.\n",
    "  - Nếu val_loss bắt đầu tăng trong khi val_accuracy không tăng nữa, nên dừng sớm (early stopping).\n",
    "\n",
    "**Cách theo dõi đúng:**\n",
    "- Ưu tiên theo dõi val_accuracy, nếu đạt giá trị cao nhất và bắt đầu giảm, nên dừng lại.\n",
    "- Theo dõi thêm f1-score từng lớp sau mỗi lần train để đảm bảo mô hình không chỉ học tốt các lớp đông mà còn các lớp nhỏ.\n",
    "\n",
    "**Tóm lại:**  \n",
    "Nếu cả accuracy và val_accuracy cùng tăng, bạn đang đi đúng hướng. Hãy tiếp tục theo dõi đến khi val_accuracy dừng tăng hoặc val_loss tăng trở lại để tránh overfit."
   ]
  },
  {
   "cell_type": "markdown",
   "id": "3315536f",
   "metadata": {},
   "source": [
    "### Khi acc tăng, loss giảm, val_acc tăng nhưng val_loss cũng tăng thì sao?\n",
    "\n",
    "- Đây là hiện tượng khá phổ biến khi train deep learning:\n",
    "  - **accuracy tăng, loss giảm**: mô hình học tốt hơn trên tập train.\n",
    "  - **val_accuracy tăng**: mô hình tổng quát hóa tốt hơn trên tập validation.\n",
    "  - **val_loss tăng**: mô hình dự đoán đúng nhiều hơn, nhưng các dự đoán sai lại \"sai nặng\" hơn (confidence cao nhưng sai).\n",
    "\n",
    "**Nguyên nhân:**\n",
    "- Khi mô hình tự tin hơn với các dự đoán (softmax output gần 0 hoặc 1), nếu dự đoán đúng thì loss giảm mạnh, nhưng nếu dự đoán sai thì loss tăng mạnh.\n",
    "- Nếu val_accuracy vẫn tăng, mô hình vẫn đang học lên, nhưng nếu val_loss tăng liên tục và val_accuracy dừng lại thì có thể bắt đầu overfit.\n",
    "\n",
    "**Cách xử lý:**\n",
    "- Ưu tiên theo dõi **val_accuracy** để chọn mô hình tốt nhất.\n",
    "- Có thể dùng EarlyStopping với monitor='val_accuracy' hoặc monitor='val_loss' tùy mục tiêu.\n",
    "- Nếu val_loss tăng quá mạnh, nên kiểm tra lại regularization, dropout, hoặc giảm số epoch.\n",
    "\n",
    "**Tóm lại:**  \n",
    "Nếu val_accuracy vẫn tăng, bạn có thể tiếp tục train. Nếu val_accuracy dừng lại hoặc giảm, nên dừng sớm để tránh overfit, không nên chỉ nhìn vào val_loss."
   ]
  },
  {
   "cell_type": "markdown",
   "id": "9b14b039",
   "metadata": {},
   "source": [
    "### Đánh giá quá trình train: acc/val_acc có tăng ổn không?\n",
    "\n",
    "- **Giai đoạn đầu (epoch 1-7):**  \n",
    "  - accuracy và val_accuracy đều rất thấp (~0.21), gần như random cho 5 lớp.\n",
    "  - loss và val_loss gần bằng nhau, không giảm rõ rệt.\n",
    "  - Điều này cho thấy mô hình chưa học được gì đáng kể ở các epoch đầu.\n",
    "\n",
    "- **Giai đoạn sau (epoch 8 trở đi):**  \n",
    "  - accuracy tăng rất mạnh (đến 0.9), nhưng val_accuracy chỉ tăng nhẹ (lên ~0.46).\n",
    "  - val_loss tăng cao, chênh lệch lớn với loss train.\n",
    "  - Mô hình học thuộc train, nhưng không tổng quát hóa tốt cho validation.\n",
    "\n",
    "#### Kết luận:\n",
    "- **Không ổn định:**  \n",
    "  - accuracy tăng mạnh nhưng val_accuracy tăng rất chậm, dừng ở mức thấp.\n",
    "  - val_loss tăng cao cho thấy mô hình bị overfit, không học tốt trên dữ liệu mới.\n",
    "  - Mô hình có thể quá phức tạp hoặc dữ liệu chưa đủ/đặc trưng chưa mạnh.\n",
    "\n",
    "**Gợi ý:**  \n",
    "- Giảm số chiều LSTM/Dense, tăng dropout, thử EarlyStopping.\n",
    "- Kiểm tra lại dữ liệu, thử embedding nâng cao hoặc mô hình đơn giản hơn.\n",
    "- Theo dõi f1-score từng lớp để biết mô hình có học đều không."
   ]
  },
  {
   "cell_type": "markdown",
   "id": "e00e78b6",
   "metadata": {},
   "source": [
    "### Khi acc và val_acc bằng nhau, sau đó chỉ acc tăng mà val_acc không tăng (thậm chí giảm) là sao?\n",
    "\n",
    "- **Hiện tượng:**  \n",
    "  - Ban đầu, accuracy trên train và validation gần bằng nhau → mô hình chưa overfit, đang học tốt trên cả hai tập.\n",
    "  - Sau một số epoch, chỉ accuracy (train) tiếp tục tăng, còn val_accuracy dừng lại hoặc giảm.\n",
    "\n",
    "- **Nguyên nhân:**  \n",
    "  - Mô hình bắt đầu học thuộc (overfit) dữ liệu train, không còn tổng quát hóa tốt cho dữ liệu mới (validation).\n",
    "  - Các đặc trưng mô hình học được chỉ đúng với train, không áp dụng tốt cho validation.\n",
    "  - Có thể do mô hình quá phức tạp, số epoch quá nhiều, hoặc regularization chưa đủ mạnh.\n",
    "\n",
    "- **Dấu hiệu nhận biết:**  \n",
    "  - acc tăng liên tục, val_acc dừng lại hoặc giảm.\n",
    "  - val_loss cũng thường tăng lên.\n",
    "\n",
    "- **Cách xử lý:**  \n",
    "  - Dừng train tại thời điểm val_acc đạt cao nhất (early stopping).\n",
    "  - Tăng dropout, giảm số chiều LSTM/Dense, hoặc đơn giản hóa mô hình.\n",
    "  - Kiểm tra lại dữ liệu, tránh nhiễu hoặc dữ liệu không đồng nhất.\n",
    "\n",
    "**Tóm lại:**  \n",
    "Khi chỉ acc tăng mà val_acc không tăng hoặc giảm, mô hình đã bắt đầu overfit. Nên dừng train hoặc điều chỉnh lại mô hình để tránh học thuộc train mà không tổng quát hóa được."
   ]
  },
  {
   "cell_type": "markdown",
   "id": "ef42ba44",
   "metadata": {},
   "source": [
    "### Các biện pháp có thể thử để tăng độ chính xác, precision, recall, f1-score cho mô hình\n",
    "\n",
    "1. **Tăng chất lượng dữ liệu đầu vào**\n",
    "   - Làm sạch dữ liệu kỹ hơn: loại bỏ review quá ngắn, không mang ý nghĩa cảm xúc.\n",
    "   - Sửa lỗi chính tả, chuẩn hóa từ viết tắt, xử lý emoji, v.v.\n",
    "   - Thử các kỹ thuật tăng dữ liệu (data augmentation) như hoán đổi từ đồng nghĩa, paraphrase.\n",
    "\n",
    "2. **Cải thiện đặc trưng đầu vào**\n",
    "   - Sử dụng embedding nâng cao: GloVe, FastText, hoặc embedding pre-trained tiếng Anh.\n",
    "   - Thử mô hình transformer (BERT, DistilBERT) thay vì LSTM nếu có GPU.\n",
    "   - Thêm đặc trưng meta: độ dài review, số từ cảm xúc, v.v.\n",
    "\n",
    "3. **Điều chỉnh mô hình**\n",
    "   - Giảm số chiều LSTM/Dense, tăng Dropout để giảm overfit.\n",
    "   - Thử các kiến trúc khác: Bidirectional LSTM, GRU, Attention layer.\n",
    "   - Thử các batch_size, learning_rate khác nhau.\n",
    "\n",
    "4. **Kỹ thuật train**\n",
    "   - Sử dụng EarlyStopping (monitor val_loss/val_accuracy).\n",
    "   - Thử tăng số epoch nếu chưa overfit, hoặc giảm nếu overfit.\n",
    "   - Sử dụng class_weight để giảm bias nếu dữ liệu vẫn chưa cân bằng hoàn toàn.\n",
    "\n",
    "5. **Hậu xử lý**\n",
    "   - Ensemble nhiều mô hình (voting, averaging).\n",
    "   - Sử dụng threshold điều chỉnh cho từng lớp nếu cần.\n",
    "\n",
    "6. **Đánh giá kỹ hơn**\n",
    "   - Theo dõi f1-score từng lớp, không chỉ accuracy tổng thể.\n",
    "   - Phân tích nhầm lẫn (confusion matrix) để biết mô hình hay nhầm lẫn lớp nào, từ đó điều chỉnh.\n",
    "\n",
    "**Gợi ý thực tế:**  \n",
    "- Nếu có GPU, thử fine-tune mô hình BERT hoặc DistilBERT sẽ cải thiện rõ rệt.\n",
    "- Nếu chỉ dùng LSTM, hãy thử embedding pre-trained, tăng dropout, giảm số chiều, và kiểm tra lại dữ liệu đầu vào."
   ]
  },
  {
   "cell_type": "markdown",
   "id": "3bcf1ee1",
   "metadata": {},
   "source": [
    "### Giải thích thời gian train và ý nghĩa 89/89 mỗi epoch\n",
    "\n",
    "- **Thời gian ~14s/epoch:**  \n",
    "  - Thời gian train mỗi epoch phụ thuộc vào số lượng mẫu train, batch_size, độ phức tạp mô hình và phần cứng (CPU/GPU).\n",
    "  - Ở đây, dữ liệu đã cân bằng (~5.684 mẫu train), batch_size=64, mô hình LSTM không quá lớn nên train khá nhanh (~14 giây/epoch trên CPU hoặc GPU phổ thông).\n",
    "\n",
    "- **89/89 nghĩa là gì?**  \n",
    "  - Số batch mỗi epoch = tổng số mẫu train / batch_size.\n",
    "  - Ví dụ: Nếu có 5.684 mẫu train, batch_size=64 thì 5684/64 ≈ 89 batch.\n",
    "  - 89/89 nghĩa là đã train xong 89 batch (hết toàn bộ dữ liệu train) trong epoch đó.\n",
    "\n",
    "**Tóm lại:**  \n",
    "- 14s/epoch là bình thường với lượng dữ liệu và mô hình này.\n",
    "- 89/89 là số batch đã train xong trên toàn bộ tập train trong 1 epoch."
   ]
  },
  {
   "cell_type": "markdown",
   "id": "3b2ec157",
   "metadata": {},
   "source": [
    "### Có thể thử các batch_size nào nữa?\n",
    "\n",
    "- **batch_size** là số lượng mẫu xử lý trong mỗi batch khi train.\n",
    "- Giá trị phổ biến thường thử: **32, 64, 128, 256**.\n",
    "- batch_size nhỏ (16, 32):  \n",
    "  - Cập nhật trọng số thường xuyên hơn, có thể giúp mô hình tổng quát hóa tốt hơn, nhưng train chậm hơn.\n",
    "- batch_size lớn (128, 256):  \n",
    "  - Train nhanh hơn, tận dụng tốt GPU, nhưng có thể làm mô hình khó tổng quát hóa, dễ overfit hơn.\n",
    "- batch_size quá lớn (512, 1024):  \n",
    "  - Chỉ nên dùng khi dữ liệu rất lớn và có GPU mạnh.\n",
    "\n",
    "**Gợi ý:**  \n",
    "- Nên thử các giá trị: **32, 64, 128** và so sánh kết quả (val_accuracy, val_loss).\n",
    "- Nếu RAM/GPU đủ, có thể thử lớn hơn (256).\n",
    "- Chọn batch_size phù hợp giúp mô hình hội tụ tốt và tổng quát hóa tốt hơn."
   ]
  },
  {
   "cell_type": "markdown",
   "id": "435b1b0b",
   "metadata": {},
   "source": [
    "### Đọc thử 10 dòng đầu và nhận xét về độ dài review\n",
    "\n",
    "- Dữ liệu review trong file khá dài, nhiều dòng vượt xa 200 ký tự, có dòng dài tới hàng trăm từ.\n",
    "- Việc giới hạn độ dài chuỗi đầu vào (MAX_SEQUENCE_LENGTH = 200) là **giới hạn số lượng từ** (tokens), không phải ký tự.\n",
    "- Lý do thường chọn 200 từ:\n",
    "  - Đa số review ngắn hơn 200 từ, đủ để mô hình học được ngữ cảnh chính.\n",
    "  - Nếu để quá dài, mô hình sẽ tốn nhiều tài nguyên, dễ overfit, train chậm.\n",
    "  - Nếu để quá ngắn, có thể mất thông tin quan trọng ở các review dài.\n",
    "- Bạn có thể kiểm tra phân phối độ dài review (số từ) để chọn giá trị phù hợp hơn, ví dụ 300, 400 nếu nhiều review dài.\n",
    "\n",
    "**Gợi ý:**  \n",
    "- Nên kiểm tra lại phân phối số từ/review, nếu nhiều review >200 từ thì có thể tăng MAX_SEQUENCE_LENGTH lên 300 hoặc 400 để không mất thông tin.\n",
    "- Không nên giới hạn theo ký tự, mà nên giới hạn theo số từ (tokens) vì LSTM xử lý theo chuỗi từ."
   ]
  },
  {
   "cell_type": "code",
   "execution_count": 6,
   "id": "7ac0ea4b",
   "metadata": {},
   "outputs": [
    {
     "name": "stdout",
     "output_type": "stream",
     "text": [
      "count    20491.000000\n",
      "mean        98.090284\n",
      "std         93.594623\n",
      "min          6.000000\n",
      "25%         46.000000\n",
      "50%         72.000000\n",
      "75%        116.000000\n",
      "max       1861.000000\n",
      "Name: num_words, dtype: float64\n"
     ]
    },
    {
     "data": {
      "image/png": "[encoded data removed]",
      "text/plain": [
       "<Figure size 1000x400 with 1 Axes>"
      ]
     },
     "metadata": {},
     "output_type": "display_data"
    }
   ],
   "source": [
    "# Kiểm tra phân phối số từ trong review\n",
    "df[\"num_words\"] = df[\"Review_clean\"].apply(lambda x: len(x.split()))\n",
    "print(df[\"num_words\"].describe())\n",
    "plt.figure(figsize=(10,4))\n",
    "df[\"num_words\"].hist(bins=50)\n",
    "plt.xlabel(\"Số từ mỗi review\")\n",
    "plt.ylabel(\"Số lượng review\")\n",
    "plt.title(\"Phân phối số từ trong review\")\n",
    "plt.show()"
   ]
  },
  {
   "cell_type": "markdown",
   "id": "063950e4",
   "metadata": {},
   "source": [
    "### Có nên giữ nguyên MAX_SEQUENCE_LENGTH = 200?\n",
    "\n",
    "- **Kết quả phân phối số từ:**\n",
    "  - Trung bình review: ~98 từ.\n",
    "  - 75% review có ≤116 từ, 90% review có ≤230 từ.\n",
    "  - Tuy nhiên, vẫn có nhiều review dài hơn 200 từ (max tới 1861 từ).\n",
    "\n",
    "- **Nếu giữ MAX_SEQUENCE_LENGTH = 200:**\n",
    "  - Đủ bao phủ phần lớn review (đa số không bị cắt).\n",
    "  - Một số review dài sẽ bị cắt bớt thông tin phía sau.\n",
    "  - Đảm bảo tốc độ train nhanh, tiết kiệm tài nguyên.\n",
    "\n",
    "- **Nếu tăng lên (300, 400):**\n",
    "  - Giữ được nhiều thông tin hơn cho các review dài.\n",
    "  - Tăng chi phí tính toán, có thể làm mô hình chậm hơn, dễ overfit hơn nếu dữ liệu không đủ lớn.\n",
    "\n",
    "**Khuyến nghị:**  \n",
    "- Nếu tài nguyên cho phép, có thể tăng lên 250–300 để giữ thêm thông tin cho các review dài mà vẫn không quá tốn tài nguyên.\n",
    "- Nếu muốn tối ưu tốc độ và tài nguyên, giữ 200 vẫn hợp lý vì đã bao phủ phần lớn dữ liệu.\n",
    "- Nên kiểm tra lại hiệu quả mô hình khi tăng MAX_SEQUENCE_LENGTH (so sánh val_accuracy, val_loss).\n",
    "\n",
    "**Tóm lại:**  \n",
    "- 200 là hợp lý cho đa số trường hợp.\n",
    "- Có thể thử tăng lên 250–300 và so sánh kết quả, nếu không cải thiện thì giữ 200."
   ]
  },
  {
   "cell_type": "markdown",
   "id": "06d76989",
   "metadata": {},
   "source": [
    "### Đề xuất phương án tránh overfit khi val_loss tăng, val_acc không tăng\n",
    "\n",
    "- **1. EarlyStopping:**  \n",
    "  - Sử dụng callback EarlyStopping để tự động dừng train khi val_loss không giảm hoặc val_acc không tăng sau một số epoch nhất định.\n",
    "  - Giúp chọn mô hình tốt nhất, tránh train quá lâu dẫn đến overfit.\n",
    "\n",
    "- **2. Giảm số epoch:**  \n",
    "  - Nếu thấy val_acc dừng lại, nên giảm số epoch (ví dụ 10-20) thay vì train 50 epoch.\n",
    "\n",
    "- **3. Thử Regularization khác:**  \n",
    "  - Thêm/tăng L2 regularization cho các layer Dense/LSTM.\n",
    "  - Ví dụ: `Dense(..., kernel_regularizer=tf.keras.regularizers.l2(0.01))`\n",
    "\n",
    "- **4. Sử dụng BatchNormalization:**  \n",
    "  - Thêm BatchNormalization sau Embedding hoặc trước Dense để ổn định quá trình train.\n",
    "\n",
    "- **5. Thử kiến trúc khác:**  \n",
    "  - Bidirectional LSTM, Attention, hoặc mô hình đơn giản hơn (GRU, CNN1D).\n",
    "\n",
    "- **6. Xử lý dữ liệu đầu vào:**  \n",
    "  - Loại bỏ review quá ngắn, tăng chất lượng dữ liệu.\n",
    "  - Thử embedding pre-trained (GloVe, FastText).\n",
    "\n",
    "- **7. Sử dụng class_weight:**  \n",
    "  - Nếu dữ liệu vẫn chưa cân bằng hoàn toàn, thêm class_weight khi train để giảm bias.\n",
    "\n",
    "**Gợi ý thực tế:**  \n",
    "- Thêm EarlyStopping và ModelCheckpoint để lưu mô hình tốt nhất.\n",
    "- Thử thêm L2 regularization và BatchNormalization.\n",
    "- Nếu có GPU, cân nhắc thử mô hình BERT/DistilBERT (transformer).\n",
    "\n",
    "**Ví dụ thêm EarlyStopping:**\n",
    "```python\n",
    "from tensorflow.keras.callbacks import EarlyStopping, ModelCheckpoint\n",
    "\n",
    "early_stop = EarlyStopping(monitor='val_loss', patience=3, restore_best_weights=True)\n",
    "checkpoint = ModelCheckpoint('best_model.h5', monitor='val_loss', save_best_only=True)\n",
    "\n",
    "history = model.fit(\n",
    "    X_train, y_train,\n",
    "    validation_data=(X_test, y_test),\n",
    "    epochs=30,\n",
    "    batch_size=32,\n",
    "    callbacks=[early_stop, checkpoint]\n",
    ")\n",
    "```"
   ]
  },
  {
   "cell_type": "code",
   "execution_count": 22,
   "id": "bd23cc75",
   "metadata": {},
   "outputs": [
    {
     "name": "stdout",
     "output_type": "stream",
     "text": [
      "\u001b[1m1/1\u001b[0m \u001b[32m━━━━━━━━━━━━━━━━━━━━\u001b[0m\u001b[37m\u001b[0m \u001b[1m0s\u001b[0m 35ms/step\n",
      "\u001b[1m1/1\u001b[0m \u001b[32m━━━━━━━━━━━━━━━━━━━━\u001b[0m\u001b[37m\u001b[0m \u001b[1m0s\u001b[0m 35ms/step\n",
      "Dự đoán rating: 2\n",
      "Dự đoán rating: 2\n"
     ]
    }
   ],
   "source": [
    "# Hàm dự đoán rating cho 1 review_text\n",
    "def predict_rating(review_text: str):\n",
    "    # Tiền xử lý giống train\n",
    "    review_clean = preprocess_text(review_text)\n",
    "    seq = tokenizer.texts_to_sequences([review_clean])\n",
    "    seq_pad = pad_sequences(seq, maxlen=MAX_SEQUENCE_LENGTH, padding='post', truncating='post')\n",
    "    pred_prob = model.predict(seq_pad)\n",
    "    pred_label = pred_prob.argmax(axis=1)[0]\n",
    "    rating = le.inverse_transform([pred_label])[0]\n",
    "    return rating\n",
    "\n",
    "# Ví dụ sử dụng:\n",
    "test_review = \"warwick bad good reviews warwick shocks staff quite rude rooms fairly dirty, cut asked bandaid did not, requested bottle opener did not better service\"\n",
    "print(\"Dự đoán rating:\", predict_rating(test_review))"
   ]
  }
 ],
 "metadata": {
  "kernelspec": {
   "display_name": "venv",
   "language": "python",
   "name": "python3"
  },
  "language_info": {
   "codemirror_mode": {
    "name": "ipython",
    "version": 3
   },
   "file_extension": ".py",
   "mimetype": "text/x-python",
   "name": "python",
   "nbconvert_exporter": "python",
   "pygments_lexer": "ipython3",
   "version": "3.9.13"
  }
 },
 "nbformat": 4,
 "nbformat_minor": 5
}
